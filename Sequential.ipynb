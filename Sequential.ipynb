{
 "cells": [
  {
   "cell_type": "code",
   "execution_count": 1,
   "id": "e39a8a94-3d56-43d6-a8d4-4f280b04ec7f",
   "metadata": {},
   "outputs": [
    {
     "ename": "ModuleNotFoundError",
     "evalue": "No module named 'tensorflow'",
     "output_type": "error",
     "traceback": [
      "\u001b[1;31m---------------------------------------------------------------------------\u001b[0m",
      "\u001b[1;31mModuleNotFoundError\u001b[0m                       Traceback (most recent call last)",
      "Cell \u001b[1;32mIn[1], line 3\u001b[0m\n\u001b[0;32m      1\u001b[0m \u001b[38;5;28;01mfrom\u001b[39;00m\u001b[38;5;250m \u001b[39m\u001b[38;5;21;01msklearn\u001b[39;00m\u001b[38;5;21;01m.\u001b[39;00m\u001b[38;5;21;01mpreprocessing\u001b[39;00m\u001b[38;5;250m \u001b[39m\u001b[38;5;28;01mimport\u001b[39;00m LabelEncoder\n\u001b[0;32m      2\u001b[0m \u001b[38;5;28;01mfrom\u001b[39;00m\u001b[38;5;250m \u001b[39m\u001b[38;5;21;01msklearn\u001b[39;00m\u001b[38;5;21;01m.\u001b[39;00m\u001b[38;5;21;01mmodel_selection\u001b[39;00m\u001b[38;5;250m \u001b[39m\u001b[38;5;28;01mimport\u001b[39;00m train_test_split\n\u001b[1;32m----> 3\u001b[0m \u001b[38;5;28;01mfrom\u001b[39;00m\u001b[38;5;250m \u001b[39m\u001b[38;5;21;01mtensorflow\u001b[39;00m\u001b[38;5;21;01m.\u001b[39;00m\u001b[38;5;21;01mkeras\u001b[39;00m\u001b[38;5;21;01m.\u001b[39;00m\u001b[38;5;21;01mutils\u001b[39;00m\u001b[38;5;250m \u001b[39m\u001b[38;5;28;01mimport\u001b[39;00m to_categorical\n\u001b[0;32m      4\u001b[0m \u001b[38;5;28;01mfrom\u001b[39;00m\u001b[38;5;250m \u001b[39m\u001b[38;5;21;01mkeras\u001b[39;00m\u001b[38;5;21;01m.\u001b[39;00m\u001b[38;5;21;01mcallbacks\u001b[39;00m\u001b[38;5;250m \u001b[39m\u001b[38;5;28;01mimport\u001b[39;00m EarlyStopping\n\u001b[0;32m      5\u001b[0m \u001b[38;5;28;01mfrom\u001b[39;00m\u001b[38;5;250m \u001b[39m\u001b[38;5;21;01mkeras\u001b[39;00m\u001b[38;5;21;01m.\u001b[39;00m\u001b[38;5;21;01mmodels\u001b[39;00m\u001b[38;5;250m \u001b[39m\u001b[38;5;28;01mimport\u001b[39;00m Sequential\n",
      "\u001b[1;31mModuleNotFoundError\u001b[0m: No module named 'tensorflow'"
     ]
    }
   ],
   "source": [
    "from sklearn.preprocessing import LabelEncoder\n",
    "from sklearn.model_selection import train_test_split\n",
    "from tensorflow.keras.utils import to_categorical\n",
    "from keras.callbacks import EarlyStopping\n",
    "from keras.models import Sequential\n",
    "from keras.layers import Dense, BatchNormalization, Input\n",
    "from sklearn.metrics import classification_report, confusion_matrix\n",
    "from keras.layers import BatchNormalization\n",
    "from keras.regularizers import l2\n",
    "import seaborn as sns\n",
    "import numpy as np\n",
    "import matplotlib.pyplot as plt\n",
    "import pandas as pd\n",
    "from tensorflow.keras.optimizers import Adam\n",
    "import pickle"
   ]
  },
  {
   "cell_type": "code",
   "execution_count": null,
   "id": "d2b717e0-7ae4-4c22-8093-27346f23cb93",
   "metadata": {},
   "outputs": [],
   "source": [
    "file=\"disease(filled).csv\"\n",
    "df = pd.read_csv(path)"
   ]
  },
  {
   "cell_type": "code",
   "execution_count": null,
   "id": "812a2bf1-e965-4c21-8242-c4c4524f9c4d",
   "metadata": {},
   "outputs": [],
   "source": [
    "df"
   ]
  },
  {
   "cell_type": "code",
   "execution_count": null,
   "id": "f6b6148a-a65e-4d69-b7d5-e619ddf9103f",
   "metadata": {},
   "outputs": [],
   "source": [
    "df.shape"
   ]
  },
  {
   "cell_type": "code",
   "execution_count": null,
   "id": "cd232290-4fd6-484b-8a0a-ff5aa08d3dd1",
   "metadata": {},
   "outputs": [],
   "source": [
    "df.isna().sum()"
   ]
  },
  {
   "cell_type": "code",
   "execution_count": null,
   "id": "dcf3bea1-f328-4df9-99b9-e64f085b31bb",
   "metadata": {},
   "outputs": [],
   "source": [
    "col_drop = ['Symptom_12', 'Symptom_13','Symptom_14','Symptom_15','Symptom_16','Symptom_17']\n",
    "df = df.drop(columns=col_drop)"
   ]
  },
  {
   "cell_type": "code",
   "execution_count": null,
   "id": "962f03ed-34d2-4507-a12c-b75c6ff28543",
   "metadata": {},
   "outputs": [],
   "source": [
    "df"
   ]
  },
  {
   "cell_type": "code",
   "execution_count": null,
   "id": "cfd8ab72-5c38-453d-a525-31dd6016b3e1",
   "metadata": {},
   "outputs": [],
   "source": [
    "Disease = df['Disease'].unique()\n",
    "Disease"
   ]
  },
  {
   "cell_type": "code",
   "execution_count": null,
   "id": "45ede787-847f-492c-9066-3100d3dc1a9d",
   "metadata": {},
   "outputs": [],
   "source": [
    "len(Disease)"
   ]
  },
  {
   "cell_type": "code",
   "execution_count": null,
   "id": "6d09d7fc-d037-4393-b956-51b31d790857",
   "metadata": {},
   "outputs": [],
   "source": [
    "columns = df.columns[1:]\n",
    "columns"
   ]
  },
  {
   "cell_type": "code",
   "execution_count": null,
   "id": "518bf968-7146-452b-8ba5-e056f14d9765",
   "metadata": {},
   "outputs": [],
   "source": [
    "symptoms = pd.unique(df[columns].values.ravel())\n",
    "symptoms"
   ]
  },
  {
   "cell_type": "code",
   "execution_count": null,
   "id": "657d0f32-2d01-42a6-a4f0-6898aa006a68",
   "metadata": {},
   "outputs": [],
   "source": [
    "len(symptoms)-1"
   ]
  },
  {
   "cell_type": "code",
   "execution_count": null,
   "id": "e7435c0c-21a6-4c67-8a2f-f931584ebded",
   "metadata": {},
   "outputs": [],
   "source": [
    "label_encoder = LabelEncoder()\n",
    "symp = label_encoder.fit_transform(symptoms)\n",
    "symp"
   ]
  },
  {
   "cell_type": "code",
   "execution_count": null,
   "id": "7ec061ca-4319-4b85-bc7d-212e53df531e",
   "metadata": {},
   "outputs": [],
   "source": [
    "encodedSymp = dict(zip(symptoms, symp))\n",
    "encodedSymp"
   ]
  },
  {
   "cell_type": "code",
   "execution_count": null,
   "id": "8b89db24-3f77-4ea0-885d-06d3489b1d86",
   "metadata": {},
   "outputs": [],
   "source": [
    "for col in columns:\n",
    "    df[col] = df[col].map(encodedSymp)"
   ]
  },
  {
   "cell_type": "code",
   "execution_count": null,
   "id": "5f17e477-d142-405c-b549-b94c0788b1e8",
   "metadata": {},
   "outputs": [],
   "source": [
    "df"
   ]
  },
  {
   "cell_type": "code",
   "execution_count": null,
   "id": "777aeb49-3bac-4341-87dc-98e3f24f49a2",
   "metadata": {},
   "outputs": [],
   "source": [
    "df['Disease'] = label_encoder.fit_transform(df['Disease'])"
   ]
  },
  {
   "cell_type": "code",
   "execution_count": null,
   "id": "98076358-cdde-4892-8ffe-d5c222085323",
   "metadata": {},
   "outputs": [],
   "source": [
    "df"
   ]
  },
  {
   "cell_type": "code",
   "execution_count": null,
   "id": "473f5b3a-c6a2-4f4f-a9cd-4df5f23c688f",
   "metadata": {},
   "outputs": [],
   "source": [
    "X = df.drop('Disease', axis=1)\n",
    "y = df['Disease']"
   ]
  },
  {
   "cell_type": "code",
   "execution_count": null,
   "id": "d5aac468-0c71-4124-8c67-28cb8fba04d4",
   "metadata": {},
   "outputs": [],
   "source": [
    "y"
   ]
  },
  {
   "cell_type": "code",
   "execution_count": null,
   "id": "4d5d3fcc-42ba-4f47-834d-4a4d1a62417d",
   "metadata": {},
   "outputs": [],
   "source": [
    "class_counts = y.value_counts()\n",
    "print(class_counts)"
   ]
  },
  {
   "cell_type": "code",
   "execution_count": null,
   "id": "733d95c0-1fb9-40cf-a3f1-946b5bf33659",
   "metadata": {},
   "outputs": [],
   "source": [
    "y = to_categorical(y, num_classes=len(df['Disease'].unique()))"
   ]
  },
  {
   "cell_type": "code",
   "execution_count": null,
   "id": "0d15d4e1-5b06-4dbd-bd28-483119f66869",
   "metadata": {},
   "outputs": [],
   "source": [
    "y.shape"
   ]
  },
  {
   "cell_type": "code",
   "execution_count": null,
   "id": "7a21b2a3-d1f3-4caf-83fe-ff1188ae266e",
   "metadata": {},
   "outputs": [],
   "source": [
    "X_train"
   ]
  },
  {
   "cell_type": "code",
   "execution_count": null,
   "id": "8fa0becc-469e-4427-9cb6-56621be45f2e",
   "metadata": {},
   "outputs": [],
   "source": [
    "X_test"
   ]
  },
  {
   "cell_type": "code",
   "execution_count": null,
   "id": "906fa7ce-cd06-42c6-9e13-89c1832e60d7",
   "metadata": {},
   "outputs": [],
   "source": [
    "y_test.shape"
   ]
  },
  {
   "cell_type": "code",
   "execution_count": null,
   "id": "2f43fa78-314d-4cc0-a93c-cc10c58b4cea",
   "metadata": {},
   "outputs": [],
   "source": [
    "y_train.shape"
   ]
  },
  {
   "cell_type": "code",
   "execution_count": null,
   "id": "d77ba125-a095-4c71-945c-d8b815a80ee4",
   "metadata": {},
   "outputs": [],
   "source": [
    "model = Sequential()\n",
    "\n",
    "model.add(Input(shape=(X_train.shape[1],)))\n",
    "\n",
    "model.add(Dense(64, activation='relu', kernel_regularizer=l2(0.02)))\n",
    "model.add(BatchNormalization())\n",
    "\n",
    "model.add(Dense(32, activation='relu', kernel_regularizer=l2(0.02)))\n",
    "model.add(BatchNormalization())\n",
    "\n",
    "model.add(Dense(y_train.shape[1], activation='softmax'))\n",
    "\n",
    "optimizer = Adam(learning_rate=0.0005)\n",
    "model.compile(optimizer=optimizer, loss='categorical_crossentropy', metrics=['accuracy'])"
   ]
  },
  {
   "cell_type": "code",
   "execution_count": null,
   "id": "2d441ffe-bedd-40d2-a27d-344619057164",
   "metadata": {},
   "outputs": [],
   "source": [
    "early_stopping = EarlyStopping(monitor='val_loss', patience=3, restore_best_weights=True)"
   ]
  },
  {
   "cell_type": "code",
   "execution_count": null,
   "id": "4a5826d2-974a-4971-9d92-16113ea1f8dd",
   "metadata": {},
   "outputs": [],
   "source": [
    "model.summary()"
   ]
  },
  {
   "cell_type": "code",
   "execution_count": null,
   "id": "4118b1dc-7beb-4ce9-b4c3-f8fc939180e9",
   "metadata": {},
   "outputs": [],
   "source": [
    "history = model.fit(X_train, y_train, epochs=50, batch_size=64, validation_data=(X_val, y_val), callbacks=[early_stopping])"
   ]
  },
  {
   "cell_type": "code",
   "execution_count": null,
   "id": "3e840fba-dde3-4ddb-96ba-c789d7a177d1",
   "metadata": {},
   "outputs": [],
   "source": [
    "test_loss, test_accuracy = model.evaluate(X_test, y_test)\n",
    "print(\"Test loss:\", test_loss)\n",
    "print(\"Test accuracy:\", test_accuracy)"
   ]
  },
  {
   "cell_type": "code",
   "execution_count": null,
   "id": "8ff716c2-3419-49b4-a208-890a63204c94",
   "metadata": {},
   "outputs": [],
   "source": [
    "y_pred = model.predict(X_test)\n",
    "y_pred_classes = np.argmax(y_pred, axis=1)\n",
    "\n",
    "y_true = np.argmax(y_test, axis=1)\n",
    "\n",
    "print(classification_report(y_true, y_pred_classes))"
   ]
  },
  {
   "cell_type": "code",
   "execution_count": null,
   "id": "db726aae-593c-4937-826e-62671b6f16a5",
   "metadata": {},
   "outputs": [],
   "source": [
    "conf_matrix = confusion_matrix(y_true, y_pred_classes)\n",
    "plt.figure(figsize=(10, 7))\n",
    "sns.heatmap(conf_matrix, annot=True, fmt=\"d\", cmap=\"Blues\", xticklabels=df['Disease'].unique(), yticklabels=df['Disease'].unique())\n",
    "plt.xlabel('Predicted')\n",
    "plt.ylabel('True')\n",
    "plt.title('Confusion Matrix')\n",
    "plt.show()\n"
   ]
  },
  {
   "cell_type": "code",
   "execution_count": null,
   "id": "4f9eab87-a44d-4efb-89bd-cea971316372",
   "metadata": {},
   "outputs": [],
   "source": [
    "plt.subplot(1, 2, 1)\n",
    "plt.plot(history.history['accuracy'], label='Training Accuracy')\n",
    "plt.plot(history.history['val_accuracy'], label='Validation Accuracy')\n",
    "plt.title('Accuracy')\n",
    "plt.xlabel('Epochs')\n",
    "plt.ylabel('Accuracy')\n",
    "plt.legend()\n",
    "\n",
    "plt.subplot(1, 2, 2)\n",
    "plt.plot(history.history['loss'], label='Training Loss')\n",
    "plt.plot(history.history['val_loss'], label='Validation Loss')\n",
    "plt.title('Loss')\n",
    "plt.xlabel('Epochs')\n",
    "plt.ylabel('Loss')\n",
    "plt.legend()\n",
    "\n",
    "plt.tight_layout()\n",
    "plt.show()"
   ]
  },
  {
   "cell_type": "code",
   "execution_count": null,
   "id": "b47d8842-6be0-47d6-9023-9ae578f98cc1",
   "metadata": {},
   "outputs": [],
   "source": [
    "with open('disease_diagnosis_model_sequential.pkl', 'wb') as model_file:\n",
    "    pickle.dump(model, model_file)"
   ]
  },
  {
   "cell_type": "code",
   "execution_count": null,
   "id": "f7a1927b-2e63-44ba-afdd-004c2b6f4f8f",
   "metadata": {},
   "outputs": [],
   "source": []
  },
  {
   "cell_type": "code",
   "execution_count": null,
   "id": "2067af1e-e32f-4580-bbec-c4881a2028d6",
   "metadata": {},
   "outputs": [],
   "source": []
  }
 ],
 "metadata": {
  "kernelspec": {
   "display_name": "Python 3 (ipykernel)",
   "language": "python",
   "name": "python3"
  },
  "language_info": {
   "codemirror_mode": {
    "name": "ipython",
    "version": 3
   },
   "file_extension": ".py",
   "mimetype": "text/x-python",
   "name": "python",
   "nbconvert_exporter": "python",
   "pygments_lexer": "ipython3",
   "version": "3.13.1"
  },
  "widgets": {
   "application/vnd.jupyter.widget-state+json": {
    "state": {},
    "version_major": 2,
    "version_minor": 0
   }
  }
 },
 "nbformat": 4,
 "nbformat_minor": 5
}
